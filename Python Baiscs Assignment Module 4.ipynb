{
 "cells": [
  {
   "cell_type": "markdown",
   "id": "ad0b60e7-be21-43f8-88c0-cba5c7986de9",
   "metadata": {},
   "source": [
    "1)Explain the key features of Python that make it a popular choice for programming."
   ]
  },
  {
   "cell_type": "code",
   "execution_count": null,
   "id": "140b44c4-04f3-4a4d-a527-dcb773952fd3",
   "metadata": {},
   "outputs": [],
   "source": [
    "Readability and Simplicity: Python's syntax is clear and easy to read, making it accessible for beginners    and allowing experienced programmers to write code quickly and efficiently.\n",
    "\n",
    "Extensive Standard Library: Python comes with a vast standard library that includes modules and packages for various tasks, reducing the need to write code from scratch.\n",
    "\n",
    "Integration Capabilities: Python can easily integrate with other languages and technologies, allowing developers to use Python alongside other tools and frameworks in their projects.\n",
    "\n",
    "Versatility: Python is a general-purpose language that can be used for a wide range of applications, from web development and data analysis to artificial intelligence and scientific computing."
   ]
  },
  {
   "cell_type": "code",
   "execution_count": null,
   "id": "6cdee7f4-58d1-46a9-a6e3-1bf7ff0453bf",
   "metadata": {},
   "outputs": [],
   "source": []
  },
  {
   "cell_type": "markdown",
   "id": "863ab45b-716b-4f85-9cf3-5c8fdd1370bf",
   "metadata": {},
   "source": [
    "2)Describe the role of predefined keywords in Python and provide examples of how they are used in a\n",
    "program."
   ]
  },
  {
   "cell_type": "code",
   "execution_count": null,
   "id": "0f905964-dc84-4c1e-a444-24037c39a911",
   "metadata": {},
   "outputs": [],
   "source": [
    "Predefined keywords in Python are reserved words that have special meanings and are an integral\n",
    "part of the language syntax. These keywords are used to define the structure and behavior of Python\n",
    "programs. They cannot be used as identifiers (names for variables, functions, classes, etc.) because\n",
    "they are reserved by the language.\n",
    "\n",
    "Example: if, elif, else: Used for conditional statements.\n",
    "x = 10\n",
    "if x > 0:\n",
    "    print(\"Positive\")\n",
    "elif x == 0:\n",
    "    print(\"Zero\")\n",
    "else:\n",
    "    print(\"Negative\")"
   ]
  },
  {
   "cell_type": "code",
   "execution_count": null,
   "id": "c6fda260-ff62-4e3b-bf02-018cb821dc99",
   "metadata": {},
   "outputs": [],
   "source": []
  },
  {
   "cell_type": "markdown",
   "id": "340b1fe4-8185-4a13-9649-6b7e6948f291",
   "metadata": {},
   "source": [
    "3)Compare and contrast mutable and immutable objects in Python with examples."
   ]
  },
  {
   "cell_type": "code",
   "execution_count": null,
   "id": "d4299cc7-dd28-4222-8574-143607d52691",
   "metadata": {},
   "outputs": [],
   "source": [
    "Mutable objects are those whose state or content can be changed after creation. Examples of mutable objects include lists, dictionaries, and sets.\n",
    "Example:my_list = [1, 2, 3]\n",
    "        my_list.append(4)\n",
    "        my_list[0] = 10\n",
    "        print(my_list) \n",
    "\n",
    "Immutable objects are those whose state or content cannot be changed after creation. Examples of immutable objects include strings, tuples, and numbers (integers, floats).\n",
    "Example:tuples\n",
    "\n",
    "Key Differences:\n",
    "\n",
    "State Change:\n",
    "Mutable: Can be modified after creation (e.g., lists, dictionaries).\n",
    "Immutable: Cannot be modified after creation; any change results in a new object (e.g., strings, tuples).\n",
    "\n",
    "Memory Efficiency:\n",
    "Mutable: Modifying a mutable object does not create a new object; the same memory location is used.\n",
    "Immutable: Modifying an immutable object creates a new object, which can be less memory-efficient for large datasets."
   ]
  },
  {
   "cell_type": "code",
   "execution_count": null,
   "id": "1ddfd8fc-cac6-4bf0-8562-56cc58641304",
   "metadata": {},
   "outputs": [],
   "source": []
  },
  {
   "cell_type": "markdown",
   "id": "60ee5be9-431f-42b5-a915-f37246901f76",
   "metadata": {},
   "source": [
    "4)Discuss the different types of operators in Python and provide examples of how they are used."
   ]
  },
  {
   "cell_type": "code",
   "execution_count": null,
   "id": "581e55a6-a881-4bf3-93f7-a00827d90e39",
   "metadata": {},
   "outputs": [],
   "source": [
    "Arithmetic Operators: These operators are used to perform mathematical operations.\n",
    "                      Example: print(a * b)  # Output: 15\n",
    "                      \n",
    "Comparison Operators : These operators are used to compare two values.\n",
    "                      Example: print(a == b)  # Output: False\n",
    "                      \n",
    "Assignment Operators: These operators are used to assign values to variables.\n",
    "                      Example: c = 10\n",
    "                      \n",
    "Logical Operators: These operators are used to perform logical operations.\n",
    "                      Example: x = True\n",
    "                      y = False\n",
    "                      print(x and y)  # Output: False\n",
    "                      \n",
    "Identity Operators: These operators are used to compare the memory locations of two objects.\n",
    "                      Example: z = [1, 2, 3]\n",
    "                               print(x is not z)  # Output: True"
   ]
  },
  {
   "cell_type": "code",
   "execution_count": null,
   "id": "b54b6af2-e9d2-4adb-b99e-637795f9450a",
   "metadata": {},
   "outputs": [],
   "source": []
  },
  {
   "cell_type": "markdown",
   "id": "1cc41ee7-450d-4b76-8a66-7b5404934447",
   "metadata": {},
   "source": [
    "5)Explain the concept of type casting in Python with examples."
   ]
  },
  {
   "cell_type": "code",
   "execution_count": null,
   "id": "8d31becf-f6b9-4a7e-99e8-795d1f7865ae",
   "metadata": {},
   "outputs": [],
   "source": [
    "Type casting in Python refers to converting one data type into another. It is a way to explicitly specify\n",
    "that a value should be converted from one type to another. Python supports several built-in\n",
    "functions for type casting, which can be used to change the type of a variable.\n",
    "\n",
    "int(): Converts a value to an integer.\n",
    "float(): Converts a value to a floating-point number.\n",
    "str(): Converts a value to a string.\n",
    "bool(): Converts a value to a boolean.\n",
    "list(): Converts a value to a list.\n",
    "tuple(): Converts a value to a tuple.\n",
    "set(): Converts a value to a set.\n",
    "dict(): Converts a value to a dictionary.\n",
    "\n",
    "Example: x = 5.67\n",
    "         y = int(x)\n",
    "         print(y)  # Output: 5"
   ]
  },
  {
   "cell_type": "code",
   "execution_count": null,
   "id": "b676bff1-1544-49a9-8d00-255076f58fec",
   "metadata": {},
   "outputs": [],
   "source": []
  },
  {
   "cell_type": "markdown",
   "id": "5c7a7741-536e-47b6-ba50-5e04b65bf79c",
   "metadata": {},
   "source": [
    "6)How do conditional statements work in Python? Illustrate with examples."
   ]
  },
  {
   "cell_type": "code",
   "execution_count": null,
   "id": "a2d10992-14dc-4b15-a301-2d0aef578d1e",
   "metadata": {},
   "outputs": [],
   "source": [
    "Conditional statements in Python allow you to execute certain blocks of code based on specific\n",
    "conditions. They help control the flow of a program by using logical conditions. The primary\n",
    "conditional statements in Python are if, , and •else*.\n",
    "\n",
    "Syntax: if condition:\n",
    "            # code to execute if condition is true\n",
    "        elif another_condition:\n",
    "            # code to execute if another_condition is true\n",
    "        else:\n",
    "            # code to execute if all previous conditions are false\n",
    "        \n",
    "Example:\n",
    "\n",
    "score = 85\n",
    "if score >= 90:\n",
    "    print(\"Grade: A\")\n",
    "elif score >= 80:\n",
    "    print(\"Grade: B\")\n",
    "elif score >= 70:\n",
    "    print(\"Grade: C\")\n",
    "elif score >= 60:\n",
    "    print(\"Grade: D\")\n",
    "else:\n",
    "    print(\"Grade: F\")\n",
    "# Output: Grade: B"
   ]
  },
  {
   "cell_type": "code",
   "execution_count": null,
   "id": "caca831f-f41c-40ae-9e7e-56512dec7bf0",
   "metadata": {},
   "outputs": [],
   "source": []
  },
  {
   "cell_type": "markdown",
   "id": "5e06a342-5623-46af-8af4-0303b9c5fd00",
   "metadata": {},
   "source": [
    "7)Describe the different types of loops in Python and their use cases with examples."
   ]
  },
  {
   "cell_type": "code",
   "execution_count": null,
   "id": "bdff6800-7c6b-406e-8c22-70efbba3f246",
   "metadata": {},
   "outputs": [],
   "source": [
    "Python supports several types of loops, each serving different purposes. The main types of loops are for and while loops. Let's discuss these in detail, along with their use cases and examples.\n",
    "\n",
    "1. for Loop\n",
    "The for loop is used to iterate over a sequence (such as a list, tuple, string, or range) and execute a block of code for each element in the sequence.\n",
    "\n",
    "Example:\n",
    "fruits = [\"apple\", \"banana\", \"cherry\"]\n",
    "for fruit in fruits:\n",
    "    print(fruit)\n",
    "# Output:\n",
    "# apple\n",
    "# banana\n",
    "# cherry\n",
    "\n",
    "2. while Loop\n",
    "The while loop is used to repeatedly execute a block of code as long as a specified condition is true.\n",
    "\n",
    "Example:\n",
    "count = 0\n",
    "while count < 5:\n",
    "    print(count)\n",
    "    count += 1\n",
    "# Output:\n",
    "# 0\n",
    "# 1\n",
    "# 2\n",
    "# 3\n",
    "# 4\n",
    "\n",
    "3. Nested Loops\n",
    "Loops can be nested inside other loops to perform more complex iterations.\n",
    "\n",
    "Example:\n",
    "matrix = [\n",
    "    [1, 2, 3],\n",
    "    [4, 5, 6],\n",
    "    [7, 8, 9]\n",
    "]\n",
    "for row in matrix:\n",
    "    for element in row:\n",
    "        print(element, end=\" \")\n",
    "    print()\n",
    "# Output:\n",
    "# 1 2 3 \n",
    "# 4 5 6 \n",
    "# 7 8 9 \n",
    "\n"
   ]
  }
 ],
 "metadata": {
  "kernelspec": {
   "display_name": "Python 3 (ipykernel)",
   "language": "python",
   "name": "python3"
  },
  "language_info": {
   "codemirror_mode": {
    "name": "ipython",
    "version": 3
   },
   "file_extension": ".py",
   "mimetype": "text/x-python",
   "name": "python",
   "nbconvert_exporter": "python",
   "pygments_lexer": "ipython3",
   "version": "3.10.8"
  }
 },
 "nbformat": 4,
 "nbformat_minor": 5
}
