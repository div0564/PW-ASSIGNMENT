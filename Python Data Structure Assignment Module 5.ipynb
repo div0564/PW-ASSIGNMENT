{
 "cells": [
  {
   "cell_type": "markdown",
   "id": "9298aa9f-b1a9-4dc8-9e01-0239a8e6c739",
   "metadata": {},
   "source": [
    "1)Discuss string slicing and provide examples."
   ]
  },
  {
   "cell_type": "raw",
   "id": "5cd20c38-a327-4e5b-8a80-7ec02fe280ff",
   "metadata": {},
   "source": [
    "String slicing is a technique used in programming to extract a portion of a string. It involves\n",
    "specifying a start index, an optional end index, and an optional step value. In Python, string slicing\n",
    "uses the following syntax:\n",
    "\n",
    "Example: text = \"Hello, World!\"\n",
    "                 print(text[0:5])  # Output: Hello"
   ]
  },
  {
   "cell_type": "code",
   "execution_count": null,
   "id": "592b90d8-81ca-4b79-9f0c-7cddbe8e1559",
   "metadata": {},
   "outputs": [],
   "source": []
  },
  {
   "cell_type": "markdown",
   "id": "738e29b8-8d09-446f-8951-703376476629",
   "metadata": {},
   "source": [
    "2)Explain the key features of lists in Python."
   ]
  },
  {
   "cell_type": "raw",
   "id": "99ad759e-7444-4847-9f8d-5852321d871b",
   "metadata": {},
   "source": [
    "1. Ordered Collection\n",
    "Lists maintain the order of elements. This means that elements have a specific order, and you can\n",
    "access elements by their position (index) in the list.\n",
    "\n",
    "2. Mutable\n",
    "Lists can be modified after creation. You can add, remove, or change elements.\n",
    "\n",
    "3. Heterogeneous Elements\n",
    "Lists can contain elements of different data types, including other lists.\n",
    "\n",
    "4. Dynamic Size\n",
    "Lists can grow or shrink in size as elements are added or removed.\n",
    "\n",
    "5. Indexing and Slicing\n",
    "You can access individual elements using indexing and retrieve sublists using slicing."
   ]
  },
  {
   "cell_type": "code",
   "execution_count": null,
   "id": "4a7485dc-cbf1-4f61-b2f6-aeaea7aadc53",
   "metadata": {},
   "outputs": [],
   "source": []
  },
  {
   "cell_type": "markdown",
   "id": "ee040892-dae3-4c91-a19c-e5e618ef7199",
   "metadata": {},
   "source": [
    "3)Describe how to access, modify, and delete elements in a list with examples."
   ]
  },
  {
   "cell_type": "raw",
   "id": "1d0fab38-e369-4ef9-a63f-28f71de96ecd",
   "metadata": {},
   "source": [
    "Accessing Elements\n",
    "• Lists are zero-indexed, so the first element is at index 0.\n",
    "• Negative indices can be used to access elements from the end of the list.\n",
    "Example: fruits = [\"apple\", \"banana\", \"cherry\", \"date\"]\n",
    "                    print(fruits[0])    # Output: apple\n",
    "                    print(fruits[2])    # Output: cherry\n",
    "                    print(fruits[-1])   # Output: date\n",
    "                    print(fruits[-2])   # Output: cherry\n",
    "                    \n",
    "Modifying Elements\n",
    "• You can use slicing to change multiple elements at once.\n",
    "Example: fruits[1:3] = [\"blackberry\", \"grape\"]\n",
    "         print(fruits)  # Output: ['apple', 'blackberry', 'grape', 'date']\n",
    "        \n",
    "        \n",
    "Deleting Elements\n",
    "• Use 'remove' to delete the first occurrence of a value.\n",
    "Example: fruits.remove(\"grape\")\n",
    "        print(fruits)  # Output: ['apple', 'blackberry', 'kiwi', 'date', 'elderberry', 'fig', 'grapefruit']"
   ]
  },
  {
   "cell_type": "code",
   "execution_count": null,
   "id": "da0f17e4-1df2-4969-9e8e-2096c1f53701",
   "metadata": {},
   "outputs": [],
   "source": []
  },
  {
   "cell_type": "markdown",
   "id": "60440d71-fb5b-4abf-8e32-c50628411156",
   "metadata": {},
   "source": [
    "4)Compare and contrast tuples and lists with examples."
   ]
  },
  {
   "cell_type": "raw",
   "id": "921be7af-e09e-463e-a4e6-93195badd68f",
   "metadata": {},
   "source": [
    "1. Mutability\n",
    "• Lists are mutable, meaning their elements can be changed after creation.\n",
    "• Tuples are immutable, meaning once they are created, their elements cannot be changed.\n",
    "# List (mutable)\n",
    "fruits_list = [\"apple\", \"banana\", \"cherry\"]\n",
    "fruits_list[1] = \"blueberry\"\n",
    "print(fruits_list)  # Output: ['apple', 'blueberry', 'cherry']\n",
    "\n",
    "# Tuple (immutable)\n",
    "fruits_tuple = (\"apple\", \"banana\", \"cherry\")\n",
    "# fruits_tuple[1] = \"blueberry\"  # This will raise a TypeError\n",
    "\n",
    "2. Syntax\n",
    "• Lists are created using square brackets [ ]\n",
    "• Tuples are created using parentheses ( )\n",
    "# List\n",
    "my_list = [1, 2, 3]\n",
    "\n",
    "# Tuple\n",
    "my_tuple = (1, 2, 3)\n",
    "\n",
    "\n",
    "3. Performance\n",
    "• Tuples are generally faster than lists due to their immutability.\n",
    "• Lists are slower because they are mutable and come with more overhead.\n",
    "\n",
    "4. Use Cases\n",
    "Lists are used when you need a collection of items that can change during the program's\n",
    "execution.\n",
    "Tuples are used when you need a collection of items that should not change (e.g., representing\n",
    "fixed data).\n",
    "# Using a list for a collection of items that may change\n",
    "shopping_list = [\"milk\", \"eggs\", \"bread\"]\n",
    "shopping_list.append(\"butter\")\n",
    "print(shopping_list)  # Output: ['milk', 'eggs', 'bread', 'butter']\n",
    "\n",
    "# Using a tuple for fixed data\n",
    "person_info = (\"John\", \"Doe\", 30)\n",
    "# person_info[2] = 31  # This will raise a TypeError"
   ]
  },
  {
   "cell_type": "code",
   "execution_count": null,
   "id": "1d680f8d-5571-4edf-9b45-f2343f2c7c7b",
   "metadata": {},
   "outputs": [],
   "source": []
  },
  {
   "cell_type": "markdown",
   "id": "9ff105c5-c124-40cf-b080-fd8a69bb7db2",
   "metadata": {},
   "source": [
    "5)Describe the key features of sets and provide examples of their use."
   ]
  },
  {
   "cell_type": "raw",
   "id": "944a1846-eb0f-4391-804d-ca3de1cd1643",
   "metadata": {},
   "source": [
    "Unordered Collection:\n",
    "• Sets are unordered, meaning that there is no defined order of elements within the set.\n",
    "• Elements do not have an index, and therefore, cannot be accessed via indexing.\n",
    "Unique Elements:\n",
    "• Sets automatically remove duplicate elements. Each element is unique.\n",
    "Mutable:\n",
    "• Sets can be modified after their creation. You can add or remove elements.\n",
    "• However, the elements of a set must be immutable (e.g., numbers, strings, tuples).\n",
    "Set Operations:\n",
    "• Sets support standard mathematical set operations like union, intersection, difference, and\n",
    "symmetric difference.\n",
    "\n",
    "//Creating Sets\n",
    "# Creating a set\n",
    "my_set = {1, 2, 3, 4}\n",
    "print(my_set)  # Output: {1, 2, 3, 4}\n",
    "\n",
    "# Creating an empty set\n",
    "empty_set = set()\n",
    "print(empty_set)  # Output: set()\n",
    "\n",
    "//Adding and Removing Elements\n",
    "my_set = {1, 2, 3}\n",
    "\n",
    "# Adding elements\n",
    "my_set.add(4)\n",
    "print(my_set)  # Output: {1, 2, 3, 4}\n",
    "\n",
    "# Removing elements\n",
    "my_set.remove(2)\n",
    "print(my_set)  # Output: {1, 3, 4}\n",
    "\n",
    "# Discarding elements (does not raise an error if the element is not present)\n",
    "my_set.discard(5)  # No error\n",
    "print(my_set)      # Output: {1, 3, 4}\n",
    "\n",
    "# Popping elements (removes and returns an arbitrary element)\n",
    "element = my_set.pop()\n",
    "print(element)  # Output: 1 (or some other element)\n",
    "print(my_set)   # Output: {3, 4}\n"
   ]
  },
  {
   "cell_type": "code",
   "execution_count": null,
   "id": "b5ab62ad-6c4f-4aed-9d6d-a6356cc70b4a",
   "metadata": {},
   "outputs": [],
   "source": []
  },
  {
   "cell_type": "markdown",
   "id": "3b2e632c-431a-48d1-b8cf-86894d295065",
   "metadata": {},
   "source": [
    "6)Discuss the use cases of tuples and sets in Python programming."
   ]
  },
  {
   "cell_type": "raw",
   "id": "86dd4a15-7b83-49be-89af-7d26cb5df355",
   "metadata": {},
   "source": [
    "Use Cases for Tuples\n",
    "1. Fixed Collections of Items:\n",
    "• Use tuples to store a collection of items that should not change throughout the program,\n",
    "such as coordinates, RGB color values, or fixed configuration settings.\n",
    "\n",
    "2. Retuming Multiple Values from Functions:\n",
    "• Functions can return multiple values as a tuple, which can be easily unpacked by the caller.\n",
    "\n",
    "3. Using Tuples as Dictionary Keys:\n",
    "• Since tuples are immutable and hashable, they can be used as keys in dictionaries.\n",
    "\n",
    "4. Storing Heterogeneous Data:\n",
    "• Tuples can store elements of different data types, making them useful for representing a\n",
    "single structured record.\n",
    "\n",
    "Use Cases for Sets\n",
    "1. Removing Duplicates from a Collection:\n",
    "• Sets automatically remove duplicate elements, which is useful for obtaining unique items\n",
    "from a list.\n",
    "\n",
    "2. Membership Testing:\n",
    "• Sets provide a fast way to test for the presence of an element due to their underlying hash\n",
    "table implementation.\n",
    "\n",
    "3. Set Operations (Union, Intersection, Difference):\n",
    "• Sets support mathematical operations, making them suitable for tasks involving common,\n",
    "unique, or differing elements between collections."
   ]
  },
  {
   "cell_type": "code",
   "execution_count": null,
   "id": "34f689b0-5012-4741-9a8a-bf7ad1adc566",
   "metadata": {},
   "outputs": [],
   "source": []
  },
  {
   "cell_type": "markdown",
   "id": "bea02513-aaa3-49a1-a0bc-f6174bef2675",
   "metadata": {},
   "source": [
    "7)Describe how to add, modify, and delete items in a dictionary with examples."
   ]
  },
  {
   "cell_type": "raw",
   "id": "925adeb1-c19d-4fe8-973e-f09d3f6c7c8b",
   "metadata": {},
   "source": [
    "Adding Items\n",
    "1. Adding a Single Key-Value Pair:\n",
    "• You can add a new key-value pair by simply assigning a value to a new key.\n",
    "my_dict = {\"name\": \"Alice\", \"age\": 25}\n",
    "my_dict[\"city\"] = \"New York\"\n",
    "print(my_dict)  # Output: {'name': 'Alice', 'age': 25, 'city': 'New York'}\n",
    "\n",
    "2. Updating Multiple Key-Value Pairs:\n",
    "• Use the method to add multiple key-value pairs at once.\n",
    "my_dict.update({\"email\": \"alice@example.com\", \"phone\": \"123-456-7890\"})\n",
    "print(my_dict)  \n",
    "# Output: {'name': 'Alice', 'age': 25, 'city': 'New York', 'email': 'alice@example.com', 'phone': '123-456-7890'}\n",
    "\n",
    "Modifying Items\n",
    "1. Modifying a Single Key-Value Pair.\n",
    "• Assign a new value to an existinq key.\n",
    "my_dict[\"age\"] = 26\n",
    "print(my_dict)  # Output: {'name': 'Alice', 'age': 26, 'city': 'New York', 'email': 'alice@example.com', 'phone': '123-456-7890'}\n",
    "\n",
    "2. Modifying Multiple Key-Value Pairs:\n",
    "• Use the method to modify multiple key-value pairs at once.\n",
    "my_dict.update({\"age\": 27, \"city\": \"Los Angeles\"})\n",
    "print(my_dict)  \n",
    "# Output: {'name': 'Alice', 'age': 27, 'city': 'Los Angeles', 'email': 'alice@example.com', 'phone': '123-456-7890'}\n",
    "\n",
    "Deleting Items\n",
    "1. Deleting a Single Key-Value Pair.\n",
    "• Use the *der statement or the method.\n",
    "# Using del\n",
    "del my_dict[\"phone\"]\n",
    "print(my_dict)  \n",
    "# Output: {'name': 'Alice', 'age': 27, 'city': 'Los Angeles', 'email': 'alice@example.com'}\n",
    "\n",
    "# Using pop\n",
    "email = my_dict.pop(\"email\")\n",
    "print(email)  # Output: alice@example.com\n",
    "print(my_dict)  \n",
    "# Output: {'name': 'Alice', 'age': 27, 'city': 'Los Angeles'}\n",
    "\n",
    "2. Deleting an Arbitrary Key-Value Pair:\n",
    "• Use the method to remove and return an arbitrary key-value pair (useful in\n",
    "certain situations like while processing the dictionary).\n",
    "item = my_dict.popitem()\n",
    "print(item)  # Output: ('city', 'Los Angeles')\n",
    "print(my_dict)  # Output: {'name': 'Alice', 'age': 27}\n"
   ]
  },
  {
   "cell_type": "code",
   "execution_count": null,
   "id": "016a717b-e0a7-4527-ad06-539d51ec147d",
   "metadata": {},
   "outputs": [],
   "source": []
  },
  {
   "cell_type": "markdown",
   "id": "81bbcc27-3b55-445d-9a3c-964b8dae1aeb",
   "metadata": {},
   "source": [
    "8)Discuss the importance of dictionary keys being immutable and provide examples"
   ]
  },
  {
   "cell_type": "raw",
   "id": "3c13d6b6-37b4-479b-aa2b-fdea8c4c23a2",
   "metadata": {},
   "source": [
    "In Python, dictionary keys must be immutable. This requirement ensures the integrity and\n",
    "consistency of the data structure, allowing dictionaries to provide efficient and reliable data access.\n",
    "\n",
    "Importance of Immutable Dictionary Keys\n",
    "1. Hashability:\n",
    "• Dictionary keys must be hashable, meaning their hash value must remain constant during\n",
    "their lifetime. Immutable objects like strings, numbers, and tuples have a fixed hash value,\n",
    "allowing dictionaries to use hash tables for fast access.\n",
    "2. Consistency.\n",
    "• If dictionary keys were mutable, their values could change after being added to the\n",
    "dictionary. This would compromise the integrity of the dictionary, leading to unexpected\n",
    "behavior or errors.\n",
    "3. Performance:\n",
    "• Using immutable keys allows dictionaries to maintain efficient data structures like hash\n",
    "tables, enabling constant-time complexity for key lookups, insertions, and deletions.\n",
    "\n",
    "my_dict = {\"name\": \"Alice\", \"age\": 25}\n",
    "print(my_dict[\"name\"])  # Output: Alice\n",
    "\n",
    "my_dict = {1: \"one\", 2: \"two\"}\n",
    "print(my_dict[1])  # Output: one\n",
    "\n",
    "my_dict = {(1, 2): \"tuple\", (3, 4): \"another tuple\"}\n",
    "print(my_dict[(1, 2)])  # Output: tuple\n"
   ]
  },
  {
   "cell_type": "code",
   "execution_count": null,
   "id": "3c9cc037-d478-4d28-a76d-1c5ca1544d8f",
   "metadata": {},
   "outputs": [],
   "source": []
  }
 ],
 "metadata": {
  "kernelspec": {
   "display_name": "Python 3 (ipykernel)",
   "language": "python",
   "name": "python3"
  },
  "language_info": {
   "codemirror_mode": {
    "name": "ipython",
    "version": 3
   },
   "file_extension": ".py",
   "mimetype": "text/x-python",
   "name": "python",
   "nbconvert_exporter": "python",
   "pygments_lexer": "ipython3",
   "version": "3.10.8"
  }
 },
 "nbformat": 4,
 "nbformat_minor": 5
}
