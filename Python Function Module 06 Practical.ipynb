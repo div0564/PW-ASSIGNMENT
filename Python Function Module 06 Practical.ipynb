{
 "cells": [
  {
   "cell_type": "markdown",
   "id": "ae099133-1a55-40cd-8a86-89662ba62ee6",
   "metadata": {},
   "source": [
    "1)Write a Python function that takes a list of numbers as input and returns the sum of all even numbers in\n",
    "the list."
   ]
  },
  {
   "cell_type": "code",
   "execution_count": 9,
   "id": "2f7a5c86-8d01-4a98-bade-609922ad0ba1",
   "metadata": {},
   "outputs": [],
   "source": [
    "def evenLists(n):\n",
    "    l = []\n",
    "    sum=0\n",
    "    iseven = lambda item:item%2==0\n",
    "    for i in range (0,n):\n",
    "        l.append(int(input(\"Enter the number for the list\")))\n",
    "    for item in l:\n",
    "        if iseven(item):\n",
    "            sum=sum+item\n",
    "    return sum"
   ]
  },
  {
   "cell_type": "code",
   "execution_count": 13,
   "id": "50c9c076-bd62-4b57-a47c-cc1349db24e7",
   "metadata": {},
   "outputs": [
    {
     "name": "stdin",
     "output_type": "stream",
     "text": [
      "Enter the number for the list 44\n",
      "Enter the number for the list 90\n",
      "Enter the number for the list 56\n",
      "Enter the number for the list 71\n",
      "Enter the number for the list 34\n"
     ]
    },
    {
     "data": {
      "text/plain": [
       "224"
      ]
     },
     "execution_count": 13,
     "metadata": {},
     "output_type": "execute_result"
    }
   ],
   "source": [
    "evenLists(5)"
   ]
  },
  {
   "cell_type": "raw",
   "id": "8d5a9e3f-1476-432b-ae39-14b84fa6feef",
   "metadata": {},
   "source": []
  },
  {
   "cell_type": "markdown",
   "id": "01c6a235-b154-4bfc-9d81-624cbb7f28be",
   "metadata": {},
   "source": [
    "2)Create a Python function that accepts a string and returns the reverse of that string."
   ]
  },
  {
   "cell_type": "code",
   "execution_count": 14,
   "id": "c291b4e7-ea69-487e-b636-5c0b25543426",
   "metadata": {},
   "outputs": [],
   "source": [
    "def reverse(s):\n",
    "    return s[::-1]"
   ]
  },
  {
   "cell_type": "code",
   "execution_count": 15,
   "id": "b058789e-fb6d-44f9-ab79-643bb74d6f72",
   "metadata": {},
   "outputs": [
    {
     "data": {
      "text/plain": [
       "'!dlroW olleH'"
      ]
     },
     "execution_count": 15,
     "metadata": {},
     "output_type": "execute_result"
    }
   ],
   "source": [
    "reverse(\"Hello World!\")"
   ]
  },
  {
   "cell_type": "raw",
   "id": "576d6a87-338c-4712-9528-3b1aedb74a09",
   "metadata": {},
   "source": []
  },
  {
   "cell_type": "markdown",
   "id": "262a3fe1-62ee-4629-ab12-20cf7ba18386",
   "metadata": {},
   "source": [
    "3)Implement a Python function that takes a list of integers and returns a new list containing the squares of\n",
    "each number."
   ]
  },
  {
   "cell_type": "code",
   "execution_count": 19,
   "id": "e294d345-ae01-4614-8c3e-094b852dfc2c",
   "metadata": {},
   "outputs": [],
   "source": [
    "def squared(l):\n",
    "    res=list(map(lambda x:x**2,l))\n",
    "    return res"
   ]
  },
  {
   "cell_type": "code",
   "execution_count": 21,
   "id": "2c89e0ea-ab52-42b5-8be7-8f4be04b0c87",
   "metadata": {},
   "outputs": [
    {
     "data": {
      "text/plain": [
       "[1, 4, 9, 16, 25]"
      ]
     },
     "execution_count": 21,
     "metadata": {},
     "output_type": "execute_result"
    }
   ],
   "source": [
    "squared([1,2,3,4,5])"
   ]
  },
  {
   "cell_type": "raw",
   "id": "cd2f084f-26b9-4784-95d0-9a8095eed9b0",
   "metadata": {},
   "source": []
  },
  {
   "cell_type": "markdown",
   "id": "f5b79905-8874-407e-b789-46caaa36dd96",
   "metadata": {},
   "source": [
    "4)Write a Python function that checks if a given number is prime or not from 1 to 200"
   ]
  },
  {
   "cell_type": "code",
   "execution_count": 53,
   "id": "923186d2-1776-439f-ab58-b113c9937396",
   "metadata": {},
   "outputs": [],
   "source": [
    "def isPrime():\n",
    "    count=0\n",
    "    print(\"List of Prime nos between 1 and 200\")\n",
    "    for i in range(1,201):\n",
    "        count=0\n",
    "        for j in range(1,i+1):\n",
    "            if i%j==0: count=count+1\n",
    "        if count == 2: \n",
    "            print(i)"
   ]
  },
  {
   "cell_type": "code",
   "execution_count": 54,
   "id": "e900e3e2-3a23-4979-9ab5-0af81c93f6d9",
   "metadata": {},
   "outputs": [
    {
     "name": "stdout",
     "output_type": "stream",
     "text": [
      "List of Prime nos between 1 and 200\n",
      "2\n",
      "3\n",
      "5\n",
      "7\n",
      "11\n",
      "13\n",
      "17\n",
      "19\n",
      "23\n",
      "29\n",
      "31\n",
      "37\n",
      "41\n",
      "43\n",
      "47\n",
      "53\n",
      "59\n",
      "61\n",
      "67\n",
      "71\n",
      "73\n",
      "79\n",
      "83\n",
      "89\n",
      "97\n",
      "101\n",
      "103\n",
      "107\n",
      "109\n",
      "113\n",
      "127\n",
      "131\n",
      "137\n",
      "139\n",
      "149\n",
      "151\n",
      "157\n",
      "163\n",
      "167\n",
      "173\n",
      "179\n",
      "181\n",
      "191\n",
      "193\n",
      "197\n",
      "199\n"
     ]
    }
   ],
   "source": [
    "isPrime()"
   ]
  },
  {
   "cell_type": "raw",
   "id": "5dea5ed9-72e5-4cd9-983e-09e7943e87df",
   "metadata": {},
   "source": []
  },
  {
   "cell_type": "markdown",
   "id": "1171ff59-436a-499c-a45f-0d3707c2eac7",
   "metadata": {},
   "source": [
    "5)Create an iterator class in Python that generates the Fibonacci sequence up to a specified number of\n",
    "terms."
   ]
  },
  {
   "cell_type": "code",
   "execution_count": 74,
   "id": "23b5d2c9-8f02-4ac9-910e-fc97dda56aa7",
   "metadata": {},
   "outputs": [],
   "source": [
    "def fibonacci(n):\n",
    "    l=[]\n",
    "    l.append(0)\n",
    "    l.append(1)\n",
    "    a=0\n",
    "    b=1\n",
    "    for i in range(2,n+1):\n",
    "        c=a+b\n",
    "        a=b\n",
    "        b=c\n",
    "        l.append(c)\n",
    "    return l"
   ]
  },
  {
   "cell_type": "code",
   "execution_count": 92,
   "id": "d1cca20b-b436-4151-a2c0-647619719888",
   "metadata": {},
   "outputs": [
    {
     "name": "stdout",
     "output_type": "stream",
     "text": [
      "0\n",
      "1\n",
      "1\n",
      "2\n",
      "3\n",
      "5\n"
     ]
    }
   ],
   "source": [
    "for i in fibonacci(5):\n",
    "    print(i)"
   ]
  },
  {
   "cell_type": "raw",
   "id": "90e9a773-2336-4705-9d01-30ef4271b734",
   "metadata": {},
   "source": []
  },
  {
   "cell_type": "markdown",
   "id": "48a7fb8c-ac84-4ea2-8342-acb412b450f2",
   "metadata": {},
   "source": [
    "6)Write a generator function in Python that yields the powers of 2 up to a given exponent."
   ]
  },
  {
   "cell_type": "code",
   "execution_count": 81,
   "id": "10aa6d92-7647-4ffb-8575-a5dfb22946de",
   "metadata": {},
   "outputs": [],
   "source": [
    "def powersoftwo(max_exponent):\n",
    "    for i in range(0,max_exponent+1):\n",
    "        yield 2**i"
   ]
  },
  {
   "cell_type": "raw",
   "id": "084a5dac-38be-4a9c-a585-bef22d065838",
   "metadata": {},
   "source": [
    "for i in powersoftwo(5):\n",
    "    print(i)"
   ]
  },
  {
   "cell_type": "raw",
   "id": "d3022754-7bae-464a-ba98-c11fc9c97d84",
   "metadata": {},
   "source": []
  },
  {
   "cell_type": "markdown",
   "id": "860a4d7f-b62f-4a42-b039-ce4d83e894e1",
   "metadata": {},
   "source": [
    "7)Implement a generator function that reads a file line by line and yields each line as a string."
   ]
  },
  {
   "cell_type": "code",
   "execution_count": 87,
   "id": "ae6241ad-d45d-4682-b3a7-3a02962e7c62",
   "metadata": {},
   "outputs": [],
   "source": [
    "def read_file_line_by_line(file_path):\n",
    "    \"\"\"Generator function to read a file line by line.\"\"\"\n",
    "    with open(file_path, 'r') as file:\n",
    "        for line in file:\n",
    "            yield line.strip()"
   ]
  },
  {
   "cell_type": "code",
   "execution_count": 96,
   "id": "f2081fcc-9526-49a6-9078-3aec58a598b9",
   "metadata": {},
   "outputs": [
    {
     "name": "stdout",
     "output_type": "stream",
     "text": [
      "My name is Divyanshu Kumar.\n",
      "I am from Bhagalpur,Bihar.\n",
      "I am currently learning Data Analyst\n"
     ]
    }
   ],
   "source": [
    "for line in read_file_line_by_line(\"demo.txt\"):\n",
    "    print(line)"
   ]
  },
  {
   "cell_type": "code",
   "execution_count": null,
   "id": "2250b3a1-8553-44a1-9fdc-5a1a16ffbb75",
   "metadata": {},
   "outputs": [],
   "source": []
  },
  {
   "cell_type": "markdown",
   "id": "7ce65ab8-b75f-4cbc-810b-e2b987adf05f",
   "metadata": {},
   "source": [
    "8)Use a lambda function in Python to sort a list of tuples based on the second element of each tuple."
   ]
  },
  {
   "cell_type": "code",
   "execution_count": 102,
   "id": "a985261b-3595-44fe-9821-b1f0461d36c6",
   "metadata": {},
   "outputs": [
    {
     "data": {
      "text/plain": [
       "[(3, 'bat', 'sleep'),\n",
       " (2, 'dog', 'cat'),\n",
       " (1, 'orange', 'dog'),\n",
       " (4, 'sleep', 'code')]"
      ]
     },
     "execution_count": 102,
     "metadata": {},
     "output_type": "execute_result"
    }
   ],
   "source": [
    "l = [(1,\"orange\",\"dog\"),(2,\"dog\",\"cat\"),(3,\"bat\",\"sleep\"),(4,\"sleep\",\"code\")]\n",
    "sorted(l,key = lambda x: x[1])"
   ]
  },
  {
   "cell_type": "raw",
   "id": "b2a68e47-59b3-46e5-b32e-772bd39c64a3",
   "metadata": {},
   "source": []
  },
  {
   "cell_type": "markdown",
   "id": "9929c745-4b36-4104-9e87-271aab38cb81",
   "metadata": {},
   "source": [
    "9)Write a Python program that uses `map()` to convert a list of temperatures from Celsius to Fahrenheit."
   ]
  },
  {
   "cell_type": "code",
   "execution_count": 111,
   "id": "6e0b68b2-c3b1-48c8-a3cf-802b9d44acef",
   "metadata": {},
   "outputs": [
    {
     "data": {
      "text/plain": [
       "[68.0, 86.0, 104.0, 122.0, 140.0]"
      ]
     },
     "execution_count": 111,
     "metadata": {},
     "output_type": "execute_result"
    }
   ],
   "source": [
    "l=[20,30,40,50,60]\n",
    "list(map(lambda item:float((item*(9/5)+32)),l))"
   ]
  },
  {
   "cell_type": "raw",
   "id": "05e48df7-a4d7-4dfb-b0d9-300204b2e65b",
   "metadata": {},
   "source": []
  },
  {
   "cell_type": "markdown",
   "id": "e01f3e2a-68de-47bb-b280-65e7ce8d39b4",
   "metadata": {},
   "source": [
    "10)Create a Python program that uses `filter()` to remove all the vowels from a given string."
   ]
  },
  {
   "cell_type": "code",
   "execution_count": 122,
   "id": "0b1b0731-0579-4ef9-acdd-cd6443a0fcf2",
   "metadata": {},
   "outputs": [
    {
     "data": {
      "text/plain": [
       "'Hll Wrld'"
      ]
     },
     "execution_count": 122,
     "metadata": {},
     "output_type": "execute_result"
    }
   ],
   "source": [
    "s = \"Hello World\"\n",
    "vowels=\"aeiouAEIOU\"\n",
    "res = ''.join(filter(lambda char: char not in vowels,s))\n",
    "res"
   ]
  },
  {
   "cell_type": "raw",
   "id": "25be18f7-d6d9-4884-98a5-1f9ebeac8ef8",
   "metadata": {},
   "source": []
  },
  {
   "cell_type": "raw",
   "id": "cb94912e-a53e-463e-9b91-bc3f0b6be461",
   "metadata": {},
   "source": [
    "11)Imagine an accounting routine used in a book shop. It works on a list with sublists, which look like this:"
   ]
  },
  {
   "cell_type": "code",
   "execution_count": 4,
   "id": "383e15ef-2bb6-45ef-9080-4f06cef6f244",
   "metadata": {},
   "outputs": [],
   "source": [
    "orders = [\n",
    "    (34587, \"Learning Python, Mark Lutz\", 4, 40.95),\n",
    "    (98762, \"Programing Python, Mark Lutz\", 5, 56.80),\n",
    "    (77226, \"Head First Python, Paul Barry\", 3, 32.95),\n",
    "    (88112, \"Einführung in Python3, Bernd Klein\", 3, 24.99)\n",
    "]\n",
    "\n",
    "result = list(map(lambda x: (x[0],x[2]*x[3]+10 if x[2]*x[3]<10000 else x[2]*x[3]),orders))"
   ]
  },
  {
   "cell_type": "code",
   "execution_count": 8,
   "id": "ad87dbb7-1cc0-4725-82c8-64cdfa4b9173",
   "metadata": {},
   "outputs": [
    {
     "data": {
      "text/plain": [
       "[(34587, 173.8), (98762, 294.0), (77226, 108.85000000000001), (88112, 84.97)]"
      ]
     },
     "execution_count": 8,
     "metadata": {},
     "output_type": "execute_result"
    }
   ],
   "source": [
    "result"
   ]
  },
  {
   "cell_type": "code",
   "execution_count": null,
   "id": "b7791eda-1665-4233-8602-fe7bb85212ca",
   "metadata": {},
   "outputs": [],
   "source": []
  }
 ],
 "metadata": {
  "kernelspec": {
   "display_name": "Python 3 (ipykernel)",
   "language": "python",
   "name": "python3"
  },
  "language_info": {
   "codemirror_mode": {
    "name": "ipython",
    "version": 3
   },
   "file_extension": ".py",
   "mimetype": "text/x-python",
   "name": "python",
   "nbconvert_exporter": "python",
   "pygments_lexer": "ipython3",
   "version": "3.10.8"
  }
 },
 "nbformat": 4,
 "nbformat_minor": 5
}
