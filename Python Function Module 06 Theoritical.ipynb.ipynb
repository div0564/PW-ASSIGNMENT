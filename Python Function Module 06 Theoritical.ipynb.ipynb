{
 "cells": [
  {
   "cell_type": "markdown",
   "id": "9cd4fb94-1ce7-48d4-a656-7ec984f11d67",
   "metadata": {},
   "source": [
    "1)What is the difference between a function and a method in Python?"
   ]
  },
  {
   "cell_type": "raw",
   "id": "56a202ab-368e-45d2-983e-318a6f564bb2",
   "metadata": {},
   "source": [
    "A function is a block of code that performs a specific task and can be defined independently of any\n",
    "object. Functions can be called directly and do not depend on objects.\n",
    "def greet(name):\n",
    "    return f\"Hello, {name}!\"\n",
    "\n",
    "print(greet(\"Alice\"))\n",
    "# Output: Hello, Alice!\n",
    "\n",
    "A method is a function that is associated with an object (usually an instance of a class). Methods are defined within a class and are called on objects of that class. They typically operate on data contained within the object.\n",
    "class Greeter:\n",
    "    def __init__(self, name):\n",
    "        self.name = name\n",
    "\n",
    "    def greet(self):\n",
    "        return f\"Hello, {self.name}!\"\n",
    "\n",
    "greeter = Greeter(\"Bob\")\n",
    "print(greeter.greet())\n",
    "# Output: Hello, Bob!"
   ]
  },
  {
   "cell_type": "markdown",
   "id": "47bcf19d-2d93-496f-8bf3-64a6fa967449",
   "metadata": {},
   "source": [
    "2)Explain the concept of function arguments and parameters in Python."
   ]
  },
  {
   "cell_type": "raw",
   "id": "a538ba0e-5e1e-43d1-abec-f249bc04e3ef",
   "metadata": {},
   "source": [
    "Parameters are the variables listed inside the parentheses in the function definition. They act as\n",
    "placeholders for the values that will be passed to the function when it is called.\n",
    "def add(a, b):  # a and b are parameters\n",
    "    return a + b\n",
    "\n",
    "Arguments are the actual values passed to the function when it is called. These values are assigned to the corresponding parameters in the function definition.\n",
    "result = add(3, 5)  # 3 and 5 are arguments\n",
    "print(result)\n",
    "# Output: 8"
   ]
  },
  {
   "cell_type": "markdown",
   "id": "fd72129f-6363-4c00-ad2a-eb9da48aff3e",
   "metadata": {},
   "source": [
    "3)What are the different ways to define and call a function in Python?"
   ]
  },
  {
   "cell_type": "raw",
   "id": "b5ac1b20-bcfc-490a-a0a8-2032c01e4c1e",
   "metadata": {},
   "source": [
    "1. Regular Function\n",
    "def greet(name):\n",
    "    return f\"Hello, {name}!\"\n",
    "\n",
    "print(greet(\"Alice\"))\n",
    "# Output: Hello, Alice!\n",
    "\n",
    "\n",
    "2. Function with Default Parameters\n",
    "def greet(name, message=\"Hello\"):\n",
    "    return f\"{message}, {name}!\"\n",
    "\n",
    "print(greet(\"Bob\"))\n",
    "# Output: Hello, Bob!\n",
    "\n",
    "print(greet(\"Bob\", \"Hi\"))\n",
    "# Output: Hi, Bob!\n",
    "\n",
    "\n",
    "3.Lambda Function (Anonymous Function)\n",
    "add = lambda x, y: x + y\n",
    "\n",
    "print(add(3, 5))\n",
    "# Output: 8\n",
    "\n",
    "4. Function with Variable-length Arguments\n",
    "def sum_all(*args):\n",
    "    return sum(args)\n",
    "\n",
    "print(sum_all(1, 2, 3, 4))\n",
    "# Output: 10\n",
    "\n",
    "5. Function with Variable-length Keyword Arguments\n",
    "def display_info(**kwargs):\n",
    "    for key, value in kwargs.items():\n",
    "        print(f\"{key}: {value}\")\n",
    "\n",
    "display_info(name=\"Alice\", age=30, location=\"New York\")\n",
    "# Output:\n",
    "# name: Alice\n",
    "# age: 30\n",
    "# location: New York"
   ]
  },
  {
   "cell_type": "markdown",
   "id": "6048ab0b-925a-4ee1-9165-9d36b9edcd57",
   "metadata": {},
   "source": [
    "4)What is the purpose of the 'returns statement in a Python function?"
   ]
  },
  {
   "cell_type": "raw",
   "id": "7d1eba51-9191-4710-9335-d4793ba2ca76",
   "metadata": {},
   "source": [
    "The return statement in a Python function is used to exit the function and optionally pass back a value (or values) to the caller. It serves several key purposes:\n",
    "\n",
    "Ending Function Execution: When a return statement is encountered, the function terminates immediately, and control is passed back to the caller.\n",
    "Returning a Value: The expression (or expressions) following return are evaluated and sent back to the caller.\n",
    "Specifying Output: The return statement allows a function to output a result that can be used elsewhere in the program.\n",
    "\n",
    "def add(a, b):\n",
    "    return a + b\n",
    "\n",
    "result = add(3, 5)\n",
    "print(result)\n",
    "# Output: 8"
   ]
  },
  {
   "cell_type": "markdown",
   "id": "6660053d-c1b4-4ac4-ab9d-4c32555aebb6",
   "metadata": {},
   "source": [
    "5)What are iterators in Python and how do they differ from iterables?"
   ]
  },
  {
   "cell_type": "raw",
   "id": "59619524-2e17-4f2c-aced-021eeade57aa",
   "metadata": {},
   "source": [
    "An iterable is any Python object capable of returning its members one at a time, allowing it to be iterated over in a loop. Iterables include data types such as lists, tuples, strings, dictionaries, and sets. An object is considered iterable if it implements the __iter__() method, which returns an iterator.\n",
    "my_list = [1, 2, 3, 4, 5]\n",
    "\n",
    "for item in my_list:\n",
    "    print(item)\n",
    "# Output:\n",
    "# 1\n",
    "# 2\n",
    "# 3\n",
    "# 4\n",
    "# 5\n",
    "\n",
    "An iterator is an object that represents a stream of data. It knows how to compute the next value when you ask for it, and it keeps track of where it is in the sequence. An object is an iterator if it implements the __iter__() method (which returns itself) and the __next__() method, which returns the next item in the sequence and raises a StopIteration exception when there are no more items.\n",
    "my_list = [1, 2, 3, 4, 5]\n",
    "iterator = iter(my_list)  # Creating an iterator from an iterable\n",
    "\n",
    "print(next(iterator))  # Output: 1\n",
    "print(next(iterator))  # Output: 2\n",
    "print(next(iterator))  # Output: 3\n",
    "print(next(iterator))  # Output: 4\n",
    "print(next(iterator))  # Output: 5\n",
    "# print(next(iterator))  # Raises StopIteration"
   ]
  },
  {
   "cell_type": "markdown",
   "id": "b0740715-9e96-468c-8256-936eef3638ee",
   "metadata": {},
   "source": [
    "6)Explain the concept of generators in Python and how they are defined."
   ]
  },
  {
   "cell_type": "raw",
   "id": "36fa5629-be6c-4c35-8e2a-2c53071157dc",
   "metadata": {},
   "source": [
    "In Python, generators are a special type of iterator that allow you to iterate through a sequence of values. They are simpler to write than iterators and provide a more memory-efficient way to handle large datasets because they generate items one at a time and only when needed.\n",
    "\n",
    "def count_up_to(max):\n",
    "    count = 1\n",
    "    while count <= max:\n",
    "        yield count\n",
    "        count += 1\n",
    "\n",
    "counter = count_up_to(5)\n",
    "for number in counter:\n",
    "    print(number)\n",
    "# Output:\n",
    "# 1\n",
    "# 2\n",
    "# 3\n",
    "# 4\n",
    "# 5\n",
    "\n",
    "In this example, the count_up_to function yields numbers from 1 to the specified maximum value. Each call to yield pauses the function's execution and returns the current value, resuming from where it left off when the next value is requested."
   ]
  },
  {
   "cell_type": "markdown",
   "id": "dabcf49a-7e37-4c83-90df-295eefce0cb0",
   "metadata": {},
   "source": [
    "7)What are the advantages of using generators over regular functions?"
   ]
  },
  {
   "cell_type": "raw",
   "id": "ab84d0ff-a15f-4808-bd22-89992bed6c12",
   "metadata": {},
   "source": [
    "1. Memory Efficiency\n",
    "Generators: Generate values on the fly and yield them one at a time. This means they do not need to store the entire sequence in memory, which is highly efficient for large datasets.\n",
    "Regular Functions: Typically create and return entire lists or other collections, which can consume a significant amount of memory, especially with large datasets.\n",
    "\n",
    "2. Lazy Evaluation\n",
    "Generators: Use lazy evaluation, meaning they only compute values as needed. This can lead to performance improvements as computations are done on demand.\n",
    "Regular Functions: Compute and return all values upfront, which can lead to unnecessary computations and delays.\n",
    "\n",
    "3. Simplified Code\n",
    "Generators: Can simplify code by abstracting iteration logic. They allow you to write cleaner and more readable code, especially for complex iterations.\n",
    "Regular Functions: Often require more boilerplate code to handle iterations and state.\n",
    "\n",
    "5. Improved Performance\n",
    "Generators: Can lead to performance improvements by reducing memory usage and deferring computation until necessary.\n",
    "Regular Functions: May suffer from performance issues due to high memory consumption and upfront computation."
   ]
  },
  {
   "cell_type": "markdown",
   "id": "82683cfe-e674-4df9-9354-de4f5271792b",
   "metadata": {},
   "source": [
    "8)What is a lambda function in Python and when is it typically used?"
   ]
  },
  {
   "cell_type": "raw",
   "id": "7bed55f2-cd0e-490b-8600-c6a5e2e360be",
   "metadata": {},
   "source": [
    "In Python, a lambda function is a small anonymous function defined using the lambda keyword. It can take any number of arguments but has a single expression. The result of the expression is automatically returned. Lambda functions are typically used for short, simple operations or when a full function definition would be unnecessarily verbose.\n",
    "\n",
    "When to Use Lambda Functions\n",
    "Short, Simple Functions: For simple operations that can be expressed in a single line.\n",
    "Inline Use: When a function is needed for a short period and does not need a name.\n",
    "Functional Programming: Often used with functions like map(), filter(), and reduce().\n",
    "\n",
    "numbers = [1, 2, 3, 4, 5]\n",
    "squares = map(lambda x: x * x, numbers)\n",
    "print(list(squares))  # Output: [1, 4, 9, 16, 25]"
   ]
  },
  {
   "cell_type": "markdown",
   "id": "26f5e922-0531-4d24-bd38-98f647831add",
   "metadata": {},
   "source": [
    "9)Explain the purpose and usage of the `map()` function in Python."
   ]
  },
  {
   "cell_type": "raw",
   "id": "1464aa05-9f49-4954-a1d4-cf490709c26b",
   "metadata": {},
   "source": [
    "The map() function in Python is used to apply a specified function to each item of an iterable (like a list or tuple) and returns an iterator (map object) of the results. It's a convenient way to process and transform data in a collection without writing explicit loops.\n",
    "\n",
    "# Define a simple function\n",
    "def square(x):\n",
    "    return x * x\n",
    "\n",
    "# Apply the function to each item in the list using map\n",
    "numbers = [1, 2, 3, 4, 5]\n",
    "squares = map(square, numbers)\n",
    "\n",
    "# Convert the map object to a list to view the results\n",
    "print(list(squares))  # Output: [1, 4, 9, 16, 25]"
   ]
  },
  {
   "cell_type": "markdown",
   "id": "da2a9150-eac7-4f17-b711-3a4cd2a7d66f",
   "metadata": {},
   "source": [
    "10)What is the difference between `map()`, `reduce()`, and `filter()` functions in Python?"
   ]
  },
  {
   "cell_type": "raw",
   "id": "251bf042-dbe1-4723-bdd4-b5559f970a62",
   "metadata": {},
   "source": [
    "The map() function applies a given function to each item of an iterable (like a list) and returns a map object (an iterator) with the results.\n",
    "# Define a function to square a number\n",
    "def square(x):\n",
    "    return x * x\n",
    "\n",
    "numbers = [1, 2, 3, 4, 5]\n",
    "squared_numbers = map(square, numbers)\n",
    "print(list(squared_numbers))  # Output: [1, 4, 9, 16, 25]\n",
    "\n",
    "The filter() function applies a given function to each item of an iterable and returns a filter object (an iterator) containing only the items for which the function returns True.\n",
    "# Define a function to check if a number is even\n",
    "def is_even(x):\n",
    "    return x % 2 == 0\n",
    "\n",
    "numbers = [1, 2, 3, 4, 5, 6]\n",
    "even_numbers = filter(is_even, numbers)\n",
    "print(list(even_numbers))  # Output: [2, 4, 6]\n",
    "\n",
    "\n",
    "The reduce() function applies a given function cumulatively to the items of an iterable, from left to right, to reduce the iterable to a single value. Unlike map() and filter(), reduce() is not a built-in function in Python 3 and needs to be imported from the functools module.\n",
    "from functools import reduce\n",
    "\n",
    "# Define a function to add two numbers\n",
    "def add(x, y):\n",
    "    return x + y\n",
    "\n",
    "numbers = [1, 2, 3, 4, 5]\n",
    "sum_of_numbers = reduce(add, numbers)\n",
    "print(sum_of_numbers)  # Output: 15"
   ]
  },
  {
   "cell_type": "markdown",
   "id": "653dbe96-b269-4ddf-ac1f-da447be76448",
   "metadata": {},
   "source": [
    "11)  https://purple-receptionist-bjwcj.pwskills.app/lab/tree/work/Pic.jpg"
   ]
  },
  {
   "cell_type": "code",
   "execution_count": null,
   "id": "79f6d655-d690-4ef9-b212-8e8c7ccb56f7",
   "metadata": {},
   "outputs": [],
   "source": []
  }
 ],
 "metadata": {
  "kernelspec": {
   "display_name": "Python 3 (ipykernel)",
   "language": "python",
   "name": "python3"
  },
  "language_info": {
   "codemirror_mode": {
    "name": "ipython",
    "version": 3
   },
   "file_extension": ".py",
   "mimetype": "text/x-python",
   "name": "python",
   "nbconvert_exporter": "python",
   "pygments_lexer": "ipython3",
   "version": "3.10.8"
  }
 },
 "nbformat": 4,
 "nbformat_minor": 5
}
